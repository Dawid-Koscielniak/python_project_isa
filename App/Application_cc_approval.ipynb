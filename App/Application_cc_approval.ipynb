{
 "cells": [
  {
   "cell_type": "code",
   "execution_count": 4,
   "metadata": {},
   "outputs": [],
   "source": [
    "import helper_func as hf"
   ]
  },
  {
   "cell_type": "code",
   "execution_count": 5,
   "metadata": {},
   "outputs": [],
   "source": [
    "def fin():\n",
    "    dane = input (\"Podaj ID klienta: \")\n",
    "    hf.q1()\n",
    "    hf.q2()\n",
    "    hf.q3()\n",
    "    hf.q4()\n",
    "    hf.q5()\n",
    "    hf.q6()\n",
    "    score_fin = (sum(score_list))\n",
    "    if score_fin < 5:\n",
    "        decyzja = (\"Zgoda\")\n",
    "    if score_fin in range (5,8):\n",
    "        decyzja = (\"Do analizy\")\n",
    "    if score_fin in range (8,10):\n",
    "        decyzja = (\"Do analizy po dostarczeniu dokumentów\")\n",
    "    if score_fin > 10:\n",
    "        decyzja = (\"Odrzucono\")\n",
    "    print (str(dane) +\":\" + \" Wynik \" + str(score_fin) + \" Decyzja \" + \"- \" + decyzja)"
   ]
  },
  {
   "cell_type": "code",
   "execution_count": 9,
   "metadata": {},
   "outputs": [],
   "source": [
    "def aplikacja():\n",
    "    while True:\n",
    "        pytanie = input(\"Jeśli chcesz uruchamić program wpisz Y\").lower()\n",
    "        if pytanie in (\"y\"):\n",
    "            fin()\n",
    "            del score_list [0:6]\n",
    "        else:\n",
    "            print (\"Dowidzenia!\")\n",
    "            break"
   ]
  },
  {
   "cell_type": "code",
   "execution_count": null,
   "metadata": {},
   "outputs": [],
   "source": []
  }
 ],
 "metadata": {
  "kernelspec": {
   "display_name": "Python 3",
   "language": "python",
   "name": "python3"
  },
  "language_info": {
   "codemirror_mode": {
    "name": "ipython",
    "version": 3
   },
   "file_extension": ".py",
   "mimetype": "text/x-python",
   "name": "python",
   "nbconvert_exporter": "python",
   "pygments_lexer": "ipython3",
   "version": "3.7.6"
  }
 },
 "nbformat": 4,
 "nbformat_minor": 4
}
